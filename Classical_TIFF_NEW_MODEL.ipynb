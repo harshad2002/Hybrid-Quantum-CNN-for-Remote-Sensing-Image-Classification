{
 "cells": [
  {
   "cell_type": "code",
   "execution_count": 4,
   "id": "0d6a1708-1f3b-44c4-b255-b8d89f3c3ccf",
   "metadata": {},
   "outputs": [],
   "source": [
    "import os\n",
    "import cv2\n",
    "import numpy as np\n",
    "from osgeo import gdal\n",
    "from sklearn.model_selection import train_test_split\n",
    "import tensorflow as tf\n",
    "from tensorflow.keras.models import Sequential\n",
    "from tensorflow.keras.layers import Conv2D, MaxPooling2D, Flatten, Dense, BatchNormalization, Dropout\n",
    "from tensorflow.keras.optimizers import Adam\n",
    "from tensorflow.keras.callbacks import EarlyStopping, ModelCheckpoint\n",
    "from tensorflow.keras.models import load_model"
   ]
  },
  {
   "cell_type": "code",
   "execution_count": 7,
   "id": "2be9d06d-d21a-4197-98c7-3053dc075447",
   "metadata": {},
   "outputs": [],
   "source": [
    "dataset_path = \"/home/admin1/Selvin/BE/EuroSAT_MS/\""
   ]
  },
  {
   "cell_type": "code",
   "execution_count": 8,
   "id": "8ae207b0-7c32-4395-8f7d-0f91329d2365",
   "metadata": {},
   "outputs": [],
   "source": [
    "subdirs = [d for d in os.listdir(dataset_path) if os.path.isdir(os.path.join(dataset_path, d))]\n",
    "\n",
    "# Initialize lists to store images and labels\n",
    "images = []\n",
    "labels = []\n",
    "\n",
    "# Initialize a label counter\n",
    "label = 0\n",
    "\n",
    "# Loop through each subdirectory\n",
    "for subdir in subdirs:\n",
    "    # List all image files in the subdirectory\n",
    "    image_files = [os.path.join(dataset_path, subdir, f) for f in os.listdir(os.path.join(dataset_path, subdir)) if f.endswith(\".tif\")]\n",
    "    \n",
    "    # Load images from the files\n",
    "    for file in image_files:\n",
    "        # Open the image file using GDAL\n",
    "        dataset = gdal.Open(file)\n",
    "\n",
    "        # Read all image channels into a list\n",
    "        channels = [dataset.GetRasterBand(i + 1).ReadAsArray() for i in range(dataset.RasterCount)]\n",
    "\n",
    "        # Stack the channels to create a multi-channel image\n",
    "        image = np.stack(channels, axis=-1)\n",
    "\n",
    "        # Resize the image to a fixed size (if needed)\n",
    "        image = cv2.resize(image, (64, 64))  # Adjust the dimensions as per your requirements\n",
    "        \n",
    "        # Append the image and label to the lists\n",
    "        images.append(image)\n",
    "        labels.append(label)  # Use the label counter as the label\n",
    "    \n",
    "    # Increment the label counter for the next subdirectory\n",
    "    label += 1\n",
    "\n",
    "# Convert the lists to numpy arrays\n",
    "images = np.array(images)\n",
    "labels = np.array(labels)\n",
    "\n",
    "# Normalize pixel values to be between 0 and 1\n",
    "images = images / 255.0"
   ]
  },
  {
   "cell_type": "code",
   "execution_count": 9,
   "id": "2c542047-852a-4747-8a90-47d7e0cd2f33",
   "metadata": {},
   "outputs": [],
   "source": [
    "X_train, X_test, y_train, y_test = train_test_split(images, labels, test_size=0.2, random_state=42)"
   ]
  },
  {
   "cell_type": "code",
   "execution_count": 5,
   "id": "d19930a7-4f02-4559-a555-f07de0a782b0",
   "metadata": {},
   "outputs": [],
   "source": [
    "model = Sequential()\n",
    "model.add(Conv2D(32, (3, 3), activation='relu', input_shape=(64, 64, images.shape[-1])))\n",
    "model.add(BatchNormalization())\n",
    "model.add(MaxPooling2D((2, 2)))\n",
    "model.add(Conv2D(64, (3, 3), activation='relu'))\n",
    "model.add(BatchNormalization())\n",
    "model.add(MaxPooling2D((2, 2)))\n",
    "model.add(Conv2D(128, (3, 3), activation='relu'))\n",
    "model.add(BatchNormalization())\n",
    "model.add(MaxPooling2D((2, 2)))\n",
    "model.add(Flatten())\n",
    "\n",
    "\n",
    "model.add(Dense(256, activation='relu'))\n",
    "model.add(BatchNormalization())\n",
    "model.add(Dropout(0.5))\n",
    "\n",
    "\n",
    "\n",
    "model.add(Dense(128, activation='relu'))\n",
    "model.add(BatchNormalization())\n",
    "model.add(Dropout(0.5))\n",
    "0.96  \n",
    "\n",
    "\n",
    "model.add(Dense(8, activation='relu'))\n",
    "model.add(BatchNormalization())\n",
    "# model.add(Dropout(0.5))\n",
    "\n",
    "\n",
    "\n",
    "model.add(Dense(4, activation='relu'))\n",
    "model.add(BatchNormalization())\n",
    "\n",
    "\n",
    "model.add(Dense(10, activation='softmax'))"
   ]
  },
  {
   "cell_type": "code",
   "execution_count": 6,
   "id": "98ceace4-5ad9-4bca-a05e-91c7b20698be",
   "metadata": {},
   "outputs": [],
   "source": [
    "model.compile(optimizer=Adam(learning_rate=0.001), loss='sparse_categorical_crossentropy', metrics=['accuracy'])"
   ]
  },
  {
   "cell_type": "code",
   "execution_count": 7,
   "id": "18137cf0-73f9-446c-b647-b7a607fef313",
   "metadata": {},
   "outputs": [
    {
     "name": "stdout",
     "output_type": "stream",
     "text": [
      "Epoch 1/30\n",
      "675/675 [==============================] - 28s 40ms/step - loss: 1.4333 - accuracy: 0.5409 - val_loss: 0.9436 - val_accuracy: 0.7061\n",
      "Epoch 2/30\n",
      "  3/675 [..............................] - ETA: 23s - loss: 1.1288 - accuracy: 0.6354"
     ]
    },
    {
     "name": "stderr",
     "output_type": "stream",
     "text": [
      "/home/admin1/.local/lib/python3.8/site-packages/keras/src/engine/training.py:3000: UserWarning: You are saving your model as an HDF5 file via `model.save()`. This file format is considered legacy. We recommend using instead the native Keras format, e.g. `model.save('my_model.keras')`.\n",
      "  saving_api.save_model(\n"
     ]
    },
    {
     "name": "stdout",
     "output_type": "stream",
     "text": [
      "675/675 [==============================] - 25s 37ms/step - loss: 0.8636 - accuracy: 0.7466 - val_loss: 1.5715 - val_accuracy: 0.6635\n",
      "Epoch 3/30\n",
      "675/675 [==============================] - 25s 38ms/step - loss: 0.6711 - accuracy: 0.8096 - val_loss: 0.8542 - val_accuracy: 0.7170\n",
      "Epoch 4/30\n",
      "675/675 [==============================] - 25s 36ms/step - loss: 0.5341 - accuracy: 0.8501 - val_loss: 0.6484 - val_accuracy: 0.7880\n",
      "Epoch 5/30\n",
      "675/675 [==============================] - 25s 37ms/step - loss: 0.4478 - accuracy: 0.8744 - val_loss: 0.4275 - val_accuracy: 0.8694\n",
      "Epoch 6/30\n",
      "675/675 [==============================] - 25s 37ms/step - loss: 0.4132 - accuracy: 0.8826 - val_loss: 0.6727 - val_accuracy: 0.7841\n",
      "Epoch 7/30\n",
      "675/675 [==============================] - 23s 34ms/step - loss: 0.3612 - accuracy: 0.8964 - val_loss: 0.3792 - val_accuracy: 0.8930\n",
      "Epoch 8/30\n",
      "675/675 [==============================] - 24s 36ms/step - loss: 0.3231 - accuracy: 0.9104 - val_loss: 0.7965 - val_accuracy: 0.7700\n",
      "Epoch 9/30\n",
      "675/675 [==============================] - 24s 36ms/step - loss: 0.2973 - accuracy: 0.9182 - val_loss: 0.3532 - val_accuracy: 0.8985\n",
      "Epoch 10/30\n",
      "675/675 [==============================] - 24s 36ms/step - loss: 0.2798 - accuracy: 0.9199 - val_loss: 0.4115 - val_accuracy: 0.8930\n",
      "Epoch 11/30\n",
      "675/675 [==============================] - 24s 36ms/step - loss: 0.2676 - accuracy: 0.9245 - val_loss: 0.4597 - val_accuracy: 0.8870\n",
      "Epoch 12/30\n",
      "675/675 [==============================] - 24s 36ms/step - loss: 0.2385 - accuracy: 0.9313 - val_loss: 0.3251 - val_accuracy: 0.8965\n",
      "Epoch 13/30\n",
      "675/675 [==============================] - 24s 35ms/step - loss: 0.2515 - accuracy: 0.9268 - val_loss: 0.4510 - val_accuracy: 0.8604\n",
      "Epoch 14/30\n",
      "675/675 [==============================] - 24s 35ms/step - loss: 0.2110 - accuracy: 0.9425 - val_loss: 0.3693 - val_accuracy: 0.8957\n",
      "Epoch 15/30\n",
      "675/675 [==============================] - 24s 35ms/step - loss: 0.1958 - accuracy: 0.9457 - val_loss: 0.3672 - val_accuracy: 0.9017\n",
      "Epoch 16/30\n",
      "675/675 [==============================] - 24s 36ms/step - loss: 0.1995 - accuracy: 0.9449 - val_loss: 0.9316 - val_accuracy: 0.7898\n",
      "Epoch 17/30\n",
      "675/675 [==============================] - 24s 36ms/step - loss: 0.1583 - accuracy: 0.9545 - val_loss: 0.4090 - val_accuracy: 0.8987\n"
     ]
    }
   ],
   "source": [
    "early_stopping = EarlyStopping(monitor='val_loss', patience=5, restore_best_weights=True)\n",
    "model_checkpoint = ModelCheckpoint('Classical_best_model.h5', save_best_only=True)\n",
    "\n",
    "# Train the model with callbacks\n",
    "history = model.fit(X_train, y_train, epochs=30, batch_size=32, validation_data=(X_test, y_test), callbacks=[early_stopping, model_checkpoint])\n",
    "\n",
    "class_names = ['SeaLake', 'Industrial', 'HerbaceousVegetation', 'PermanentCrop', 'AnnualCrop', 'Residential', 'Pasture', 'Forest', 'Highway', 'River']\n"
   ]
  },
  {
   "cell_type": "code",
   "execution_count": 8,
   "id": "e1437467-eca9-42ea-8600-7f1bd2e6287c",
   "metadata": {},
   "outputs": [
    {
     "name": "stdout",
     "output_type": "stream",
     "text": [
      "169/169 [==============================] - 2s 12ms/step - loss: 0.3251 - accuracy: 0.8965\n",
      "675/675 [==============================] - 8s 12ms/step - loss: 0.2394 - accuracy: 0.9239\n",
      "Test loss: 0.3251367211341858\n",
      "Test accuracy: 0.896481454372406\n",
      "\n",
      "Training loss: 0.23944270610809326\n",
      "Training accuracy: 0.9238888621330261\n"
     ]
    }
   ],
   "source": [
    "test_loss, test_accuracy = model.evaluate(X_test, y_test)\n",
    "training_loss, training_accuracy = model.evaluate(X_train, y_train)\n",
    "\n",
    "print(\"Test loss:\", test_loss)\n",
    "print(\"Test accuracy:\", test_accuracy)\n",
    "\n",
    "print()\n",
    "\n",
    "\n",
    "print(\"Training loss:\", training_loss)\n",
    "print(\"Training accuracy:\", training_accuracy)"
   ]
  },
  {
   "cell_type": "code",
   "execution_count": null,
   "id": "1b0d7b03-8456-462a-aebd-f8d93746deae",
   "metadata": {},
   "outputs": [],
   "source": []
  },
  {
   "cell_type": "code",
   "execution_count": null,
   "id": "01f6e8f6-0c4e-4593-9716-8a846ff348f9",
   "metadata": {},
   "outputs": [],
   "source": []
  },
  {
   "cell_type": "code",
   "execution_count": 5,
   "id": "a2a911a2-6f49-4887-9611-85b2c7b919b2",
   "metadata": {},
   "outputs": [],
   "source": [
    "loaded_model = load_model('Classical_best_model.h5')"
   ]
  },
  {
   "cell_type": "code",
   "execution_count": 6,
   "id": "0947de77-f30d-40aa-84ea-ae0fa8067d46",
   "metadata": {},
   "outputs": [
    {
     "ename": "NameError",
     "evalue": "name 'X_test' is not defined",
     "output_type": "error",
     "traceback": [
      "\u001b[0;31m---------------------------------------------------------------------------\u001b[0m",
      "\u001b[0;31mNameError\u001b[0m                                 Traceback (most recent call last)",
      "\u001b[0;32m<ipython-input-6-f681f5eaad41>\u001b[0m in \u001b[0;36m<module>\u001b[0;34m\u001b[0m\n\u001b[0;32m----> 1\u001b[0;31m \u001b[0mpredictions\u001b[0m \u001b[0;34m=\u001b[0m \u001b[0mloaded_model\u001b[0m\u001b[0;34m.\u001b[0m\u001b[0mpredict\u001b[0m\u001b[0;34m(\u001b[0m\u001b[0mX_test\u001b[0m\u001b[0;34m)\u001b[0m\u001b[0;34m\u001b[0m\u001b[0;34m\u001b[0m\u001b[0m\n\u001b[0m\u001b[1;32m      2\u001b[0m \u001b[0;34m\u001b[0m\u001b[0m\n\u001b[1;32m      3\u001b[0m \u001b[0;32mfor\u001b[0m \u001b[0mi\u001b[0m \u001b[0;32min\u001b[0m \u001b[0mrange\u001b[0m\u001b[0;34m(\u001b[0m\u001b[0mlen\u001b[0m\u001b[0;34m(\u001b[0m\u001b[0mpredictions\u001b[0m\u001b[0;34m)\u001b[0m\u001b[0;34m)\u001b[0m\u001b[0;34m:\u001b[0m\u001b[0;34m\u001b[0m\u001b[0;34m\u001b[0m\u001b[0m\n\u001b[1;32m      4\u001b[0m     \u001b[0mpredicted_label\u001b[0m \u001b[0;34m=\u001b[0m \u001b[0mnp\u001b[0m\u001b[0;34m.\u001b[0m\u001b[0margmax\u001b[0m\u001b[0;34m(\u001b[0m\u001b[0mpredictions\u001b[0m\u001b[0;34m[\u001b[0m\u001b[0mi\u001b[0m\u001b[0;34m]\u001b[0m\u001b[0;34m)\u001b[0m\u001b[0;34m\u001b[0m\u001b[0;34m\u001b[0m\u001b[0m\n\u001b[1;32m      5\u001b[0m     \u001b[0mtrue_label\u001b[0m \u001b[0;34m=\u001b[0m \u001b[0my_test\u001b[0m\u001b[0;34m[\u001b[0m\u001b[0mi\u001b[0m\u001b[0;34m]\u001b[0m\u001b[0;34m\u001b[0m\u001b[0;34m\u001b[0m\u001b[0m\n",
      "\u001b[0;31mNameError\u001b[0m: name 'X_test' is not defined"
     ]
    }
   ],
   "source": [
    "predictions = loaded_model.predict(X_test)\n",
    "\n",
    "for i in range(len(predictions)):\n",
    "    predicted_label = np.argmax(predictions[i])\n",
    "    true_label = y_test[i]\n",
    "    print(f\"Predicted: {predicted_label}, True: {true_label}\")"
   ]
  },
  {
   "cell_type": "code",
   "execution_count": 10,
   "id": "e1140b3f-6cf9-4a95-934f-1e924e4e7b9d",
   "metadata": {},
   "outputs": [
    {
     "name": "stdout",
     "output_type": "stream",
     "text": [
      "1/1 [==============================] - 0s 20ms/step\n",
      "Predicted Label: SeaLake\n"
     ]
    }
   ],
   "source": [
    "custom_image_path = '/home/admin1/Selvin/BE/EuroSAT_MS/SeaLake/SeaLake_1063.tif'\n",
    "\n",
    "dataset = gdal.Open(custom_image_path)\n",
    "\n",
    "channels = [dataset.GetRasterBand(i+1).ReadAsArray() for i in range(dataset.RasterCount)]\n",
    "\n",
    "image = np.stack(channels, axis=-1)\n",
    "\n",
    "image = cv2.resize(image, (64, 64))\n",
    "\n",
    "image = image/ 255.0\n",
    "\n",
    "image = np.expand_dims(image, axis=0)\n",
    "\n",
    "predictions = model.predict(image)\n",
    "\n",
    "predicted_label = np.argmax(predictions)\n",
    "\n",
    "predicted_class_name = class_names[predicted_label]\n",
    "\n",
    "# Print the predicted label\n",
    "print(\"Predicted Label:\", predicted_class_name)"
   ]
  },
  {
   "cell_type": "code",
   "execution_count": 12,
   "id": "9489f4a0-bdeb-4b14-97ea-d97fe9e9c9c9",
   "metadata": {},
   "outputs": [
    {
     "name": "stdout",
     "output_type": "stream",
     "text": [
      "169/169 [==============================] - 3s 16ms/step\n",
      "Classification Report:\n",
      "              precision    recall  f1-score   support\n",
      "\n",
      "           0       0.99      0.99      0.99       595\n",
      "           1       0.97      0.95      0.96       499\n",
      "           2       0.86      0.87      0.86       616\n",
      "           3       0.74      0.86      0.80       503\n",
      "           4       0.92      0.79      0.85       598\n",
      "           5       0.98      0.92      0.95       612\n",
      "           6       0.89      0.61      0.72       383\n",
      "           7       0.78      0.99      0.87       582\n",
      "           8       0.91      0.86      0.88       507\n",
      "           9       0.90      0.97      0.94       505\n",
      "\n",
      "    accuracy                           0.89      5400\n",
      "   macro avg       0.89      0.88      0.88      5400\n",
      "weighted avg       0.90      0.89      0.89      5400\n",
      "\n"
     ]
    }
   ],
   "source": [
    "from sklearn.metrics import classification_report\n",
    "\n",
    "y_pred = loaded_model.predict(X_test)\n",
    "\n",
    "# Convert predictions to class labels\n",
    "y_pred_labels = np.argmax(y_pred, axis=1)\n",
    "\n",
    "# Print the classification report\n",
    "print(\"Classification Report:\")\n",
    "print(classification_report(y_test, y_pred_labels))"
   ]
  },
  {
   "cell_type": "code",
   "execution_count": null,
   "id": "13bbf9a1-29e9-42b0-93b3-f5ccd40f9afc",
   "metadata": {},
   "outputs": [],
   "source": []
  }
 ],
 "metadata": {
  "kernelspec": {
   "display_name": "Python 3",
   "language": "python",
   "name": "python3"
  },
  "language_info": {
   "codemirror_mode": {
    "name": "ipython",
    "version": 3
   },
   "file_extension": ".py",
   "mimetype": "text/x-python",
   "name": "python",
   "nbconvert_exporter": "python",
   "pygments_lexer": "ipython3",
   "version": "3.8.10"
  }
 },
 "nbformat": 4,
 "nbformat_minor": 5
}
